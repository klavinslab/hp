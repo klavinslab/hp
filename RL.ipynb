{
 "cells": [
  {
   "cell_type": "code",
   "execution_count": 1,
   "metadata": {
    "ExecuteTime": {
     "end_time": "2019-08-17T05:36:38.934238Z",
     "start_time": "2019-08-17T05:36:38.438787Z"
    }
   },
   "outputs": [],
   "source": [
    "from __future__ import print_function\n",
    "\n",
    "import csv\n",
    "import math\n",
    "import sys\n",
    "import numpy as np\n",
    "import matplotlib.pyplot as plt\n",
    "import matplotlib.patches as patches\n",
    "import random\n",
    "\n",
    "import torch\n",
    "import torch.nn as nn\n",
    "import torch.nn.functional as F\n",
    "import torch.optim as optim\n",
    "import torchvision.transforms as T\n",
    "from scipy.stats import kde\n",
    "\n",
    "from hp import HP\n",
    "from rl_memory import Memory\n",
    "\n",
    "%matplotlib inline\n",
    "\n",
    "dev = \"cuda:0\""
   ]
  },
  {
   "cell_type": "code",
   "execution_count": 2,
   "metadata": {
    "ExecuteTime": {
     "end_time": "2019-08-17T05:36:38.971752Z",
     "start_time": "2019-08-17T05:36:38.935588Z"
    }
   },
   "outputs": [],
   "source": [
    "class Net(nn.Module):\n",
    "    \n",
    "    # Input is one hot encoding of the protein and its conformation\n",
    "    # Output is the value of changing a given angle to another angle\n",
    "    \n",
    "    def __init__(self,n):\n",
    "        super(Net,self).__init__()\n",
    "        self.n = n\n",
    "        self.fc1 = nn.Linear(5*n,2048)\n",
    "        self.fc2 = nn.Linear(2048,256)\n",
    "        self.fc3 = nn.Linear(256,3*n)\n",
    "        self.relu = nn.ReLU()\n",
    "        self.dropout = nn.Dropout(p=0.5)\n",
    "\n",
    "    def forward(self,x):\n",
    "        x = x.view(-1,5*self.n)\n",
    "        x = self.dropout(x)\n",
    "        x = self.relu(self.fc1(x))\n",
    "        x = self.dropout(x)\n",
    "        x = self.relu(self.fc2(x))\n",
    "        x = self.dropout(x)\n",
    "        x = self.fc3(x)\n",
    "        x = x.view(-1,self.n,3)\n",
    "        return x\n",
    "    \n",
    "    def value(self,x):\n",
    "        return self.forward(x).view(-1,3*self.n).max(1).values        "
   ]
  },
  {
   "cell_type": "code",
   "execution_count": 3,
   "metadata": {
    "ExecuteTime": {
     "end_time": "2019-08-17T05:36:38.984478Z",
     "start_time": "2019-08-17T05:36:38.973668Z"
    }
   },
   "outputs": [],
   "source": [
    "def main_loop():\n",
    "    \n",
    "    energies = []\n",
    "    \n",
    "    for i in range(NUM_EPISODES):\n",
    "        \n",
    "        hp = HP.random(30)\n",
    "        state = hp.make_state(dev=dev)\n",
    "        \n",
    "        for j in range(NUM_STEPS):\n",
    "            \n",
    "            if random.random() < EXPLORE:\n",
    "                action = random_action()\n",
    "            else:\n",
    "                action = policy_net(state)\n",
    "                \n",
    "            next_state, reward = perform_action(state, action)\n",
    "            memory.push(state, action, next_state, reward)\n",
    "            state = next_state\n",
    "            optimize_model()\n",
    "            \n",
    "        hp = state2hp(state)\n",
    "        e = hp.energy()\n",
    "        energies.append(e)\n",
    "        sys.stdout.write(\"\\r%d, %s, %s, %f     \" % (i, hp.sequence, hp.conformation, e))\n",
    "                        \n",
    "        value_net.load_state_dict(policy_net.state_dict())\n",
    "        \n",
    "    return energies\n",
    "            \n",
    "def state2hp(state):\n",
    "    return HP.create_from_one_hots(state[:,:2], state[:PROTEIN_LENGTH-1,2:5]) \n",
    "\n",
    "def random_action():\n",
    "    a = torch.zeros(1,PROTEIN_LENGTH,3)\n",
    "    a = a.to(dev)\n",
    "    i = random.randint(0,29)\n",
    "    j = random.randint(0,2)\n",
    "    a[0][i][j] = 1\n",
    "    return a\n",
    "\n",
    "def perform_action(state, action):\n",
    "    n = len(action[0])\n",
    "    a = action.view(-1,3*n).argmax(-1)\n",
    "    i, j = int(a/3), int(a%3)\n",
    "    new_state = state.clone()\n",
    "    new_state[i][2] = 0\n",
    "    new_state[i][3] = 0\n",
    "    new_state[i][4] = 0    \n",
    "    new_state[i][j+2] = 1\n",
    "    return new_state, state2hp(state).energy() - state2hp(new_state).energy()\n",
    "\n",
    "def optimize_model():\n",
    "    \n",
    "    if len(memory) < BATCH_SIZE:\n",
    "        return\n",
    "    \n",
    "    states, next_states, actions, rewards = memory.sample(BATCH_SIZE)\n",
    "    estimates = policy_net.value(states)\n",
    "    targets = GAMMA * value_net.value(next_states) + rewards\n",
    "    loss = loss_function(estimates, targets)\n",
    "    optimizer.zero_grad()\n",
    "    loss.backward()\n",
    "    torch.nn.utils.clip_grad_norm_(policy_net.parameters(), GRAD_CLIP)\n",
    "    optimizer.step()\n",
    "    "
   ]
  },
  {
   "cell_type": "code",
   "execution_count": 4,
   "metadata": {
    "ExecuteTime": {
     "end_time": "2019-08-17T23:52:27.532464Z",
     "start_time": "2019-08-17T05:36:38.986299Z"
    }
   },
   "outputs": [
    {
     "name": "stdout",
     "output_type": "stream",
     "text": [
      "3999, PHHPPPHPHPHPPPHHPHPPPHHPPHHHHP, SLSLLSRLLLSRSSRSSSLSSSLRSLSSL, 497.000000      "
     ]
    }
   ],
   "source": [
    "PROTEIN_LENGTH = 30\n",
    "NUM_EPISODES = 4000\n",
    "NUM_STEPS = 500\n",
    "MEM_SIZE = 200000\n",
    "BATCH_SIZE = 128\n",
    "GAMMA = 0.9999\n",
    "LR = 0.0001\n",
    "GRAD_CLIP = 0.25\n",
    "EXPLORE = 0.05\n",
    "\n",
    "policy_net = Net(PROTEIN_LENGTH)\n",
    "policy_net.to(dev)\n",
    "value_net = Net(PROTEIN_LENGTH)\n",
    "value_net.to(dev)\n",
    "\n",
    "memory = Memory(MEM_SIZE,dev)\n",
    "\n",
    "loss_function = nn.MSELoss()\n",
    "optimizer = optim.Adam(policy_net.parameters(),  lr=LR)\n",
    "\n",
    "energies = main_loop()"
   ]
  },
  {
   "cell_type": "code",
   "execution_count": 39,
   "metadata": {
    "ExecuteTime": {
     "end_time": "2019-08-18T05:13:15.253537Z",
     "start_time": "2019-08-18T05:13:15.119198Z"
    }
   },
   "outputs": [
    {
     "data": {
      "image/png": "[encoded data removed]",
      "text/plain": [
       "<Figure size 432x288 with 1 Axes>"
      ]
     },
     "metadata": {
      "needs_background": "light"
     },
     "output_type": "display_data"
    }
   ],
   "source": [
    "M = 25\n",
    "x = [sum(energies[M*i:M*(i+1)])/M for i in range(int(len(energies)/M))]\n",
    "plt.plot(x);"
   ]
  },
  {
   "cell_type": "code",
   "execution_count": 46,
   "metadata": {
    "ExecuteTime": {
     "end_time": "2019-08-18T05:13:30.445822Z",
     "start_time": "2019-08-18T05:13:30.364341Z"
    }
   },
   "outputs": [
    {
     "data": {
      "text/plain": [
       "tensor(5834, device='cuda:0')"
      ]
     },
     "execution_count": 46,
     "metadata": {},
     "output_type": "execute_result"
    }
   ],
   "source": [
    "states, next_states, actions, rewards = memory.sample(50*BATCH_SIZE)\n",
    "rewards.argmax()"
   ]
  },
  {
   "cell_type": "code",
   "execution_count": 47,
   "metadata": {
    "ExecuteTime": {
     "end_time": "2019-08-18T05:13:31.729207Z",
     "start_time": "2019-08-18T05:13:31.539511Z"
    }
   },
   "outputs": [
    {
     "data": {
      "image/png": "[encoded data removed]",
      "text/plain": [
       "<Figure size 432x288 with 1 Axes>"
      ]
     },
     "metadata": {
      "needs_background": "light"
     },
     "output_type": "display_data"
    }
   ],
   "source": [
    "state2hp(states[22]).show(plt.gca())"
   ]
  },
  {
   "cell_type": "code",
   "execution_count": null,
   "metadata": {},
   "outputs": [],
   "source": []
  }
 ],
 "metadata": {
  "kernelspec": {
   "display_name": "Python 3",
   "language": "python",
   "name": "python3"
  },
  "language_info": {
   "codemirror_mode": {
    "name": "ipython",
    "version": 3
   },
   "file_extension": ".py",
   "mimetype": "text/x-python",
   "name": "python",
   "nbconvert_exporter": "python",
   "pygments_lexer": "ipython3",
   "version": "3.6.8"
  },
  "toc": {
   "base_numbering": 1,
   "nav_menu": {},
   "number_sections": true,
   "sideBar": true,
   "skip_h1_title": false,
   "title_cell": "Table of Contents",
   "title_sidebar": "Contents",
   "toc_cell": false,
   "toc_position": {},
   "toc_section_display": true,
   "toc_window_display": false
  },
  "varInspector": {
   "cols": {
    "lenName": 16,
    "lenType": 16,
    "lenVar": 40
   },
   "kernels_config": {
    "python": {
     "delete_cmd_postfix": "",
     "delete_cmd_prefix": "del ",
     "library": "var_list.py",
     "varRefreshCmd": "print(var_dic_list())"
    },
    "r": {
     "delete_cmd_postfix": ") ",
     "delete_cmd_prefix": "rm(",
     "library": "var_list.r",
     "varRefreshCmd": "cat(var_dic_list()) "
    }
   },
   "types_to_exclude": [
    "module",
    "function",
    "builtin_function_or_method",
    "instance",
    "_Feature"
   ],
   "window_display": false
  }
 },
 "nbformat": 4,
 "nbformat_minor": 2
}
