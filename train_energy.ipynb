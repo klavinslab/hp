{
 "cells": [
  {
   "cell_type": "markdown",
   "metadata": {},
   "source": [
    "<div style=\"font-size: 40pt; font-weight: bold; padding: 40px 0 20px 0\">Energy Function Training</div>\n",
    "\n",
    "**by Eric Klavins**\n",
    "\n",
    "Copyright &copy; 2019, University of Washington\n",
    "\n",
    "**Abstract**: The Hydrophobic-polar (HP) protein folding model is a simplified 2D model of protein folding that was used to show that tasks such as findinfg the minimum eneryg conformation of a protein are NP-Hard. Here, we learn the energy function of the HP model, training it on conformations found during MCMC optimiztion."
   ]
  },
  {
   "cell_type": "markdown",
   "metadata": {
    "heading_collapsed": true
   },
   "source": [
    "# Includes"
   ]
  },
  {
   "cell_type": "code",
   "execution_count": 1,
   "metadata": {
    "ExecuteTime": {
     "end_time": "2019-08-10T04:57:51.293458Z",
     "start_time": "2019-08-10T04:57:50.928716Z"
    },
    "hidden": true
   },
   "outputs": [],
   "source": [
    "from __future__ import print_function\n",
    "\n",
    "import math\n",
    "import sys\n",
    "import numpy as np\n",
    "import matplotlib.pyplot as plt\n",
    "import matplotlib.patches as patches\n",
    "from collections import namedtuple\n",
    "import random\n",
    "\n",
    "import torch\n",
    "import torch.nn as nn\n",
    "import torch.nn.functional as F\n",
    "import torch.optim as optim\n",
    "\n",
    "from hp import HP\n",
    "from translate import Translate, Encoder, Decoder\n",
    "from energy import Energy\n",
    "\n",
    "%matplotlib inline\n",
    "\n",
    "dev = \"cuda:0\""
   ]
  },
  {
   "cell_type": "markdown",
   "metadata": {},
   "source": [
    "# Training"
   ]
  },
  {
   "cell_type": "code",
   "execution_count": null,
   "metadata": {
    "ExecuteTime": {
     "start_time": "2019-08-10T04:57:50.928Z"
    }
   },
   "outputs": [
    {
     "name": "stdout",
     "output_type": "stream",
     "text": [
      "3040: Loss: 1.467416    "
     ]
    },
    {
     "name": "stderr",
     "output_type": "stream",
     "text": [
      "IOPub message rate exceeded.\n",
      "The notebook server will temporarily stop sending output\n",
      "to the client in order to avoid crashing it.\n",
      "To change this limit, set the config variable\n",
      "`--NotebookApp.iopub_msg_rate_limit`.\n",
      "\n",
      "Current values:\n",
      "NotebookApp.iopub_msg_rate_limit=1000.0 (msgs/sec)\n",
      "NotebookApp.rate_limit_window=3.0 (secs)\n",
      "\n"
     ]
    },
    {
     "name": "stdout",
     "output_type": "stream",
     "text": [
      "6186: Loss: 1.182645    "
     ]
    }
   ],
   "source": [
    "energy = Energy(20)\n",
    "energy.to(dev)\n",
    "\n",
    "energy_optimizer = optim.Adam(energy.parameters(), lr=0.0001)\n",
    "mse_loss = nn.MSELoss()\n",
    "\n",
    "losses = []\n",
    "\n",
    "# Make a list of proteins\n",
    "proteins = [HP.random(20) for _ in range(1000)]\n",
    "sequences = torch.stack([p.one_hot().to(dev) for p in proteins])\n",
    "\n",
    "for i in range(10000):\n",
    "    \n",
    "    # Run optimize on them until a new conformation and energy is found\n",
    "    energies = torch.tensor([p.minimize_step(t=2) for p in proteins],dtype=torch.float,device=dev)\n",
    "    energies = energies.unsqueeze(1)\n",
    "\n",
    "    # Predict the energies of the conformations\n",
    "    conformations = torch.stack([p.conf_one_hot().to(dev) for p in proteins])\n",
    "    inputs = energy.combine(sequences,conformations)\n",
    "    estimates = energy(inputs)\n",
    "\n",
    "    # Compute loss and take a gradient step\n",
    "    loss = mse_loss(estimates, energies)\n",
    "    energy_optimizer.zero_grad()\n",
    "    loss.backward()\n",
    "    energy_optimizer.step()    \n",
    "    \n",
    "    sys.stdout.write(\"\\r%d: Loss: %f    \" % (i+1,loss))\n",
    "\n",
    "    losses.append(loss)\n"
   ]
  },
  {
   "cell_type": "code",
   "execution_count": null,
   "metadata": {
    "ExecuteTime": {
     "start_time": "2019-08-10T04:57:50.930Z"
    }
   },
   "outputs": [],
   "source": [
    "plt.plot(losses)\n",
    "# plt.ylim(-10,10)"
   ]
  },
  {
   "cell_type": "code",
   "execution_count": null,
   "metadata": {
    "ExecuteTime": {
     "start_time": "2019-08-10T04:57:50.931Z"
    }
   },
   "outputs": [],
   "source": [
    "fig,ax = plt.subplots(5,5,figsize=(20,20))\n",
    "for i in range(25):\n",
    "    proteins[i].show(ax[int(i/5),i%5])\n",
    "    ax[int(i/5),i%5].set_title(\"%f, %f\" % (proteins[i].energy(), estimates[i]))"
   ]
  },
  {
   "cell_type": "markdown",
   "metadata": {
    "ExecuteTime": {
     "end_time": "2019-08-10T02:55:13.621109Z",
     "start_time": "2019-08-10T02:55:13.618518Z"
    }
   },
   "source": [
    "# Evaluation"
   ]
  },
  {
   "cell_type": "code",
   "execution_count": null,
   "metadata": {
    "ExecuteTime": {
     "start_time": "2019-08-10T04:57:50.933Z"
    }
   },
   "outputs": [],
   "source": [
    "# Test on a new set\n",
    "p = [HP.random(20) for _ in range(25)]\n",
    "s = torch.stack([p.one_hot().to(dev) for p in proteins])\n",
    "\n",
    "e = torch.tensor([p.energy() for p in proteins],dtype=torch.float,device=dev)\n",
    "e = energies.unsqueeze(1)\n",
    "\n",
    "# Predict the energies of the conformations\n",
    "c = torch.stack([p.conf_one_hot().to(dev) for p in proteins])\n",
    "x = energy.combine(s,c)\n",
    "est = energy(x)\n",
    "\n",
    "fig,ax = plt.subplots(5,5,figsize=(20,20))\n",
    "for i in range(25):\n",
    "    p[i].show(ax[int(i/5),i%5])\n",
    "    ax[int(i/5),i%5].set_title(\"%f, %f\" % (p[i].energy(), est[i]))"
   ]
  },
  {
   "cell_type": "code",
   "execution_count": null,
   "metadata": {},
   "outputs": [],
   "source": []
  }
 ],
 "metadata": {
  "kernelspec": {
   "display_name": "Python 3",
   "language": "python",
   "name": "python3"
  },
  "language_info": {
   "codemirror_mode": {
    "name": "ipython",
    "version": 3
   },
   "file_extension": ".py",
   "mimetype": "text/x-python",
   "name": "python",
   "nbconvert_exporter": "python",
   "pygments_lexer": "ipython3",
   "version": "3.6.8"
  },
  "toc": {
   "base_numbering": 1,
   "nav_menu": {},
   "number_sections": true,
   "sideBar": true,
   "skip_h1_title": false,
   "title_cell": "Table of Contents",
   "title_sidebar": "Contents",
   "toc_cell": false,
   "toc_position": {},
   "toc_section_display": true,
   "toc_window_display": false
  },
  "varInspector": {
   "cols": {
    "lenName": 16,
    "lenType": 16,
    "lenVar": 40
   },
   "kernels_config": {
    "python": {
     "delete_cmd_postfix": "",
     "delete_cmd_prefix": "del ",
     "library": "var_list.py",
     "varRefreshCmd": "print(var_dic_list())"
    },
    "r": {
     "delete_cmd_postfix": ") ",
     "delete_cmd_prefix": "rm(",
     "library": "var_list.r",
     "varRefreshCmd": "cat(var_dic_list()) "
    }
   },
   "types_to_exclude": [
    "module",
    "function",
    "builtin_function_or_method",
    "instance",
    "_Feature"
   ],
   "window_display": false
  }
 },
 "nbformat": 4,
 "nbformat_minor": 2
}
