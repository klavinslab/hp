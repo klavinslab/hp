{
 "cells": [
  {
   "cell_type": "code",
   "execution_count": 1,
   "metadata": {
    "ExecuteTime": {
     "end_time": "2019-08-10T23:04:33.455086Z",
     "start_time": "2019-08-10T23:04:33.092798Z"
    }
   },
   "outputs": [],
   "source": [
    "from __future__ import print_function\n",
    "\n",
    "import math\n",
    "import sys\n",
    "import numpy as np\n",
    "import matplotlib.pyplot as plt\n",
    "import matplotlib.patches as patches\n",
    "from collections import namedtuple\n",
    "import random\n",
    "\n",
    "import torch\n",
    "import torch.nn as nn\n",
    "import torch.nn.functional as F\n",
    "import torch.optim as optim\n",
    "\n",
    "from hp import HP\n",
    "from translate import Translate, Encoder, Decoder\n",
    "from energy import Energy\n",
    "from memory import Memory\n",
    "\n",
    "%matplotlib inline\n",
    "\n",
    "dev = \"cuda:0\""
   ]
  },
  {
   "cell_type": "code",
   "execution_count": 2,
   "metadata": {
    "ExecuteTime": {
     "end_time": "2019-08-10T23:04:33.459006Z",
     "start_time": "2019-08-10T23:04:33.456555Z"
    }
   },
   "outputs": [],
   "source": [
    "mem = Memory(50)\n",
    "energy = Energy(20)"
   ]
  },
  {
   "cell_type": "code",
   "execution_count": 3,
   "metadata": {
    "ExecuteTime": {
     "end_time": "2019-08-10T23:04:33.464325Z",
     "start_time": "2019-08-10T23:04:33.460451Z"
    }
   },
   "outputs": [],
   "source": [
    "hp = HP.random(20)\n",
    "for _ in range(30):\n",
    "    mem.push(hp.one_hot(), hp.conf_one_hot())"
   ]
  },
  {
   "cell_type": "code",
   "execution_count": 4,
   "metadata": {
    "ExecuteTime": {
     "end_time": "2019-08-10T23:04:33.469816Z",
     "start_time": "2019-08-10T23:04:33.465875Z"
    }
   },
   "outputs": [],
   "source": [
    "idx, seqs, confs = mem.sample(5)"
   ]
  },
  {
   "cell_type": "code",
   "execution_count": 5,
   "metadata": {
    "ExecuteTime": {
     "end_time": "2019-08-10T23:04:33.478779Z",
     "start_time": "2019-08-10T23:04:33.471374Z"
    }
   },
   "outputs": [
    {
     "data": {
      "text/plain": [
       "tensor([[ 0.0141],\n",
       "        [ 0.0253],\n",
       "        [-0.0401],\n",
       "        [-0.0823],\n",
       "        [-0.1427]], grad_fn=<AddmmBackward>)"
      ]
     },
     "execution_count": 5,
     "metadata": {},
     "output_type": "execute_result"
    }
   ],
   "source": [
    "energy(energy.combine(seqs,confs))"
   ]
  },
  {
   "cell_type": "code",
   "execution_count": 8,
   "metadata": {
    "ExecuteTime": {
     "end_time": "2019-08-10T23:06:20.036636Z",
     "start_time": "2019-08-10T23:06:17.231374Z"
    }
   },
   "outputs": [],
   "source": [
    "for i in range(len(seqs)):\n",
    "    hp = HP.create_from_one_hots(seqs[i], confs[i])\n",
    "    hp.minimize_step()\n",
    "    confs[i] = hp.conf_one_hot().to(dev)"
   ]
  },
  {
   "cell_type": "code",
   "execution_count": 9,
   "metadata": {
    "ExecuteTime": {
     "end_time": "2019-08-10T23:06:25.986953Z",
     "start_time": "2019-08-10T23:06:25.981220Z"
    }
   },
   "outputs": [
    {
     "data": {
      "text/plain": [
       "tensor([[-0.2143],\n",
       "        [-0.2479],\n",
       "        [ 0.0622],\n",
       "        [-0.0585],\n",
       "        [-0.1676]], grad_fn=<AddmmBackward>)"
      ]
     },
     "execution_count": 9,
     "metadata": {},
     "output_type": "execute_result"
    }
   ],
   "source": [
    "energy(energy.combine(seqs,confs))"
   ]
  },
  {
   "cell_type": "code",
   "execution_count": null,
   "metadata": {},
   "outputs": [],
   "source": []
  }
 ],
 "metadata": {
  "kernelspec": {
   "display_name": "Python 3",
   "language": "python",
   "name": "python3"
  },
  "language_info": {
   "codemirror_mode": {
    "name": "ipython",
    "version": 3
   },
   "file_extension": ".py",
   "mimetype": "text/x-python",
   "name": "python",
   "nbconvert_exporter": "python",
   "pygments_lexer": "ipython3",
   "version": "3.6.8"
  },
  "toc": {
   "base_numbering": 1,
   "nav_menu": {},
   "number_sections": true,
   "sideBar": true,
   "skip_h1_title": false,
   "title_cell": "Table of Contents",
   "title_sidebar": "Contents",
   "toc_cell": false,
   "toc_position": {},
   "toc_section_display": true,
   "toc_window_display": false
  },
  "varInspector": {
   "cols": {
    "lenName": 16,
    "lenType": 16,
    "lenVar": 40
   },
   "kernels_config": {
    "python": {
     "delete_cmd_postfix": "",
     "delete_cmd_prefix": "del ",
     "library": "var_list.py",
     "varRefreshCmd": "print(var_dic_list())"
    },
    "r": {
     "delete_cmd_postfix": ") ",
     "delete_cmd_prefix": "rm(",
     "library": "var_list.r",
     "varRefreshCmd": "cat(var_dic_list()) "
    }
   },
   "types_to_exclude": [
    "module",
    "function",
    "builtin_function_or_method",
    "instance",
    "_Feature"
   ],
   "window_display": false
  }
 },
 "nbformat": 4,
 "nbformat_minor": 2
}
