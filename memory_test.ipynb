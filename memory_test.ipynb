{
 "cells": [
  {
   "cell_type": "code",
   "execution_count": 1,
   "metadata": {
    "ExecuteTime": {
     "end_time": "2019-08-11T16:35:38.876537Z",
     "start_time": "2019-08-11T16:35:38.530743Z"
    }
   },
   "outputs": [],
   "source": [
    "from __future__ import print_function\n",
    "\n",
    "import math\n",
    "import sys\n",
    "import numpy as np\n",
    "import matplotlib.pyplot as plt\n",
    "import matplotlib.patches as patches\n",
    "from collections import namedtuple\n",
    "import random\n",
    "\n",
    "import torch\n",
    "import torch.nn as nn\n",
    "import torch.nn.functional as F\n",
    "import torch.optim as optim\n",
    "\n",
    "from hp import HP\n",
    "from translate import Translate, Encoder, Decoder\n",
    "from energy import Energy\n",
    "from memory import Memory\n",
    "\n",
    "%matplotlib inline\n",
    "\n",
    "dev = \"cuda:0\""
   ]
  },
  {
   "cell_type": "code",
   "execution_count": 2,
   "metadata": {
    "ExecuteTime": {
     "end_time": "2019-08-11T16:35:41.515604Z",
     "start_time": "2019-08-11T16:35:38.878029Z"
    }
   },
   "outputs": [],
   "source": [
    "mem = Memory(50)\n",
    "energy = Energy(20)\n",
    "energy.to(dev);"
   ]
  },
  {
   "cell_type": "code",
   "execution_count": 3,
   "metadata": {
    "ExecuteTime": {
     "end_time": "2019-08-11T16:35:41.521203Z",
     "start_time": "2019-08-11T16:35:41.517232Z"
    }
   },
   "outputs": [],
   "source": [
    "for _ in range(30):\n",
    "    hp = HP.random(20)\n",
    "    mem.push(hp.one_hot(dev=dev), hp.conf_one_hot(dev=dev))"
   ]
  },
  {
   "cell_type": "code",
   "execution_count": 4,
   "metadata": {
    "ExecuteTime": {
     "end_time": "2019-08-11T16:35:41.535906Z",
     "start_time": "2019-08-11T16:35:41.522510Z"
    }
   },
   "outputs": [
    {
     "data": {
      "text/plain": [
       "device(type='cuda', index=0)"
      ]
     },
     "execution_count": 4,
     "metadata": {},
     "output_type": "execute_result"
    }
   ],
   "source": [
    "idx, seqs, confs = mem.sample(5)\n",
    "seqs.device"
   ]
  },
  {
   "cell_type": "code",
   "execution_count": 5,
   "metadata": {
    "ExecuteTime": {
     "end_time": "2019-08-11T16:35:41.544810Z",
     "start_time": "2019-08-11T16:35:41.537690Z"
    }
   },
   "outputs": [
    {
     "data": {
      "text/plain": [
       "tensor([[-0.2153],\n",
       "        [ 0.0561],\n",
       "        [-0.0721],\n",
       "        [-0.0581],\n",
       "        [-0.2419]], device='cuda:0', grad_fn=<AddmmBackward>)"
      ]
     },
     "execution_count": 5,
     "metadata": {},
     "output_type": "execute_result"
    }
   ],
   "source": [
    "energy(energy.combine(seqs,confs))"
   ]
  },
  {
   "cell_type": "code",
   "execution_count": 6,
   "metadata": {
    "ExecuteTime": {
     "end_time": "2019-08-11T16:35:41.569017Z",
     "start_time": "2019-08-11T16:35:41.546308Z"
    }
   },
   "outputs": [],
   "source": [
    "for i in range(len(seqs)):\n",
    "    hp = HP.create_from_one_hots(seqs[i], confs[i])\n",
    "    hp.minimize_step()\n",
    "    confs[i] = hp.conf_one_hot().to(dev)"
   ]
  },
  {
   "cell_type": "code",
   "execution_count": 7,
   "metadata": {
    "ExecuteTime": {
     "end_time": "2019-08-11T16:35:41.574101Z",
     "start_time": "2019-08-11T16:35:41.570163Z"
    }
   },
   "outputs": [
    {
     "data": {
      "text/plain": [
       "tensor([[-0.2954],\n",
       "        [ 0.0175],\n",
       "        [-0.1294],\n",
       "        [-0.2849],\n",
       "        [-0.1109]], device='cuda:0', grad_fn=<AddmmBackward>)"
      ]
     },
     "execution_count": 7,
     "metadata": {},
     "output_type": "execute_result"
    }
   ],
   "source": [
    "energy(energy.combine(seqs,confs))"
   ]
  },
  {
   "cell_type": "code",
   "execution_count": null,
   "metadata": {},
   "outputs": [],
   "source": []
  }
 ],
 "metadata": {
  "kernelspec": {
   "display_name": "Python 3",
   "language": "python",
   "name": "python3"
  },
  "language_info": {
   "codemirror_mode": {
    "name": "ipython",
    "version": 3
   },
   "file_extension": ".py",
   "mimetype": "text/x-python",
   "name": "python",
   "nbconvert_exporter": "python",
   "pygments_lexer": "ipython3",
   "version": "3.6.8"
  },
  "toc": {
   "base_numbering": 1,
   "nav_menu": {},
   "number_sections": true,
   "sideBar": true,
   "skip_h1_title": false,
   "title_cell": "Table of Contents",
   "title_sidebar": "Contents",
   "toc_cell": false,
   "toc_position": {},
   "toc_section_display": true,
   "toc_window_display": false
  },
  "varInspector": {
   "cols": {
    "lenName": 16,
    "lenType": 16,
    "lenVar": 40
   },
   "kernels_config": {
    "python": {
     "delete_cmd_postfix": "",
     "delete_cmd_prefix": "del ",
     "library": "var_list.py",
     "varRefreshCmd": "print(var_dic_list())"
    },
    "r": {
     "delete_cmd_postfix": ") ",
     "delete_cmd_prefix": "rm(",
     "library": "var_list.r",
     "varRefreshCmd": "cat(var_dic_list()) "
    }
   },
   "types_to_exclude": [
    "module",
    "function",
    "builtin_function_or_method",
    "instance",
    "_Feature"
   ],
   "window_display": false
  }
 },
 "nbformat": 4,
 "nbformat_minor": 2
}
